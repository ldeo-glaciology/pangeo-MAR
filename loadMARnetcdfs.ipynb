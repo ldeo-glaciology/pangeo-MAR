{
 "cells": [
  {
   "cell_type": "markdown",
   "id": "featured-contributor",
   "metadata": {},
   "source": [
    "# Notebook for loading MAR netcdfs"
   ]
  },
  {
   "cell_type": "code",
   "execution_count": 61,
   "id": "focused-apache",
   "metadata": {},
   "outputs": [],
   "source": [
    "import xarray as xr\n",
    "import os\n",
    "import fsspec\n",
    "import gcsfs"
   ]
  },
  {
   "cell_type": "markdown",
   "id": "165582e6-fa04-4f02-a885-0a03acb42ae9",
   "metadata": {},
   "source": [
    "Setup the file names"
   ]
  },
  {
   "cell_type": "code",
   "execution_count": 62,
   "id": "e435fc46-cfaf-4ab1-9217-6fa798593d82",
   "metadata": {},
   "outputs": [
    {
     "name": "stdout",
     "output_type": "stream",
     "text": [
      "Total of 21 MAR files.\n",
      "\n"
     ]
    },
    {
     "data": {
      "text/plain": [
       "['ldeo-glaciology/MAR/MARv3.12-20km-daily-ERA5-2000.nc',\n",
       " 'ldeo-glaciology/MAR/MARv3.12-20km-daily-ERA5-2001.nc',\n",
       " 'ldeo-glaciology/MAR/MARv3.12-20km-daily-ERA5-2002.nc',\n",
       " 'ldeo-glaciology/MAR/MARv3.12-20km-daily-ERA5-2003.nc',\n",
       " 'ldeo-glaciology/MAR/MARv3.12-20km-daily-ERA5-2004.nc',\n",
       " 'ldeo-glaciology/MAR/MARv3.12-20km-daily-ERA5-2005.nc',\n",
       " 'ldeo-glaciology/MAR/MARv3.12-20km-daily-ERA5-2006.nc',\n",
       " 'ldeo-glaciology/MAR/MARv3.12-20km-daily-ERA5-2007.nc',\n",
       " 'ldeo-glaciology/MAR/MARv3.12-20km-daily-ERA5-2008.nc',\n",
       " 'ldeo-glaciology/MAR/MARv3.12-20km-daily-ERA5-2009.nc',\n",
       " 'ldeo-glaciology/MAR/MARv3.12-20km-daily-ERA5-2010.nc',\n",
       " 'ldeo-glaciology/MAR/MARv3.12-20km-daily-ERA5-2011.nc',\n",
       " 'ldeo-glaciology/MAR/MARv3.12-20km-daily-ERA5-2012.nc',\n",
       " 'ldeo-glaciology/MAR/MARv3.12-20km-daily-ERA5-2013.nc',\n",
       " 'ldeo-glaciology/MAR/MARv3.12-20km-daily-ERA5-2014.nc',\n",
       " 'ldeo-glaciology/MAR/MARv3.12-20km-daily-ERA5-2015.nc',\n",
       " 'ldeo-glaciology/MAR/MARv3.12-20km-daily-ERA5-2016.nc',\n",
       " 'ldeo-glaciology/MAR/MARv3.12-20km-daily-ERA5-2017.nc',\n",
       " 'ldeo-glaciology/MAR/MARv3.12-20km-daily-ERA5-2018.nc',\n",
       " 'ldeo-glaciology/MAR/MARv3.12-20km-daily-ERA5-2019.nc',\n",
       " 'ldeo-glaciology/MAR/MARv3.12-20km-daily-ERA5-2020.nc']"
      ]
     },
     "execution_count": 62,
     "metadata": {},
     "output_type": "execute_result"
    }
   ],
   "source": [
    "fs = gcsfs.GCSFileSystem(project='ldeo-glaciology', mode='ab', cache_timeout = 0, token='../secrets/ldeo-glaciology-bc97b12df06b.json')\n",
    "gcsdir = 'gs://ldeo-glaciology'\n",
    "marsdir = 'MAR'\n",
    "filepattern = 'MARv3.12-20km-daily-ERA5*'\n",
    "pattern = os.path.join(gcsdir, marsdir, filepattern)\n",
    "NCs = fs.glob(pattern)\n",
    "print(f\"Total of {len(NCs)} MAR files.\\n\")\n",
    "NCs"
   ]
  },
  {
   "cell_type": "markdown",
   "id": "37a346db-3733-4753-8270-ed6b48f8c015",
   "metadata": {},
   "source": [
    "Try loading one netcdf"
   ]
  },
  {
   "cell_type": "code",
   "execution_count": 63,
   "id": "8d6d4702-fca0-47eb-af09-fae6add4f72c",
   "metadata": {},
   "outputs": [],
   "source": [
    "NCs_urls = ['gs://' + x + '#mode=bytes' for x in NCs]\n",
    "openfile = fs.open(NCs_urls[0], mode='rb') \n",
    "ds1 = xr.open_dataset(openfile)"
   ]
  },
  {
   "cell_type": "markdown",
   "id": "333a7fe0-1bbb-439d-b1cb-654a81fd6ff5",
   "metadata": {},
   "source": [
    "this one netcdf should be one year of data, so check the length of the TIME dimension.  2000 was a leap year so this should be 366 :+1:"
   ]
  },
  {
   "cell_type": "code",
   "execution_count": 64,
   "id": "564489d8-2c94-4990-a937-9edaff5b5dd5",
   "metadata": {},
   "outputs": [
    {
     "data": {
      "text/plain": [
       "366"
      ]
     },
     "execution_count": 64,
     "metadata": {},
     "output_type": "execute_result"
    }
   ],
   "source": [
    "len(ds1.TIME)  "
   ]
  },
  {
   "cell_type": "markdown",
   "id": "45c04c02-34de-4f5f-81ec-2a00c816817a",
   "metadata": {},
   "source": [
    "Now load all the files"
   ]
  },
  {
   "cell_type": "code",
   "execution_count": 65,
   "id": "5f8a032e-be43-4b44-941f-921ccf84e84a",
   "metadata": {},
   "outputs": [],
   "source": [
    "NCs_urls = ['https://storage.googleapis.com/' + x + '#mode=bytes' for x in NCs] # needed for open_mfdataset\n",
    "ds = xr.open_mfdataset(NCs_urls, engine='netcdf4', \n",
    "                       concat_dim='TIME',\n",
    "                      )"
   ]
  },
  {
   "cell_type": "markdown",
   "id": "55f88542-1e55-4bc8-90ed-98ac2e65356c",
   "metadata": {},
   "source": [
    "Check that the concatanation along the TIME dimension has worked ok. "
   ]
  },
  {
   "cell_type": "code",
   "execution_count": 66,
   "id": "b5202316-339b-404c-bda8-c66d2eaabd87",
   "metadata": {},
   "outputs": [
    {
     "data": {
      "text/plain": [
       "[<matplotlib.lines.Line2D at 0x7f1634f42b20>]"
      ]
     },
     "execution_count": 66,
     "metadata": {},
     "output_type": "execute_result"
    },
    {
     "data": {
      "image/png": "[encoded data removed]",
      "text/plain": [
       "<Figure size 432x288 with 1 Axes>"
      ]
     },
     "metadata": {
      "needs_background": "light"
     },
     "output_type": "display_data"
    }
   ],
   "source": [
    "ds.TIME.plot.line(\"b.\")"
   ]
  },
  {
   "cell_type": "code",
   "execution_count": 67,
   "id": "00488bbf-cfc7-4205-b791-ea4830686ffa",
   "metadata": {},
   "outputs": [
    {
     "data": {
      "text/plain": [
       "<matplotlib.collections.QuadMesh at 0x7f163433a1f0>"
      ]
     },
     "execution_count": 67,
     "metadata": {},
     "output_type": "execute_result"
    },
    {
     "data": {
      "image/png": "[encoded data removed]",
      "text/plain": [
       "<Figure size 432x288 with 2 Axes>"
      ]
     },
     "metadata": {
      "needs_background": "light"
     },
     "output_type": "display_data"
    }
   ],
   "source": [
    "ds.ME[0].plot()"
   ]
  },
  {
   "cell_type": "code",
   "execution_count": null,
   "id": "90b47627-0664-4fd3-a933-a927fe69b0e8",
   "metadata": {},
   "outputs": [],
   "source": []
  }
 ],
 "metadata": {
  "kernelspec": {
   "display_name": "Python 3 (ipykernel)",
   "language": "python",
   "name": "python3"
  },
  "language_info": {
   "codemirror_mode": {
    "name": "ipython",
    "version": 3
   },
   "file_extension": ".py",
   "mimetype": "text/x-python",
   "name": "python",
   "nbconvert_exporter": "python",
   "pygments_lexer": "ipython3",
   "version": "3.8.12"
  }
 },
 "nbformat": 4,
 "nbformat_minor": 5
}
